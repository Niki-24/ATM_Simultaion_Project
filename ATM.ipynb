{
 "cells": [
  {
   "cell_type": "code",
   "execution_count": 30,
   "id": "6a55e1bc-24dd-412e-b6fe-50cfba0fc1ff",
   "metadata": {
    "scrolled": true
   },
   "outputs": [],
   "source": [
    "class Atm:\n",
    "    acc_no = 1000\n",
    "    def __init__(self,name):\n",
    "        self.name = name\n",
    "        self.balance = 0\n",
    "        self.Create_pin()\n",
    "        self.history = []\n",
    "        Atm.acc_no +=1\n",
    "\n",
    "        while True:\n",
    "            option = int(input(\"\"\"enter the number:\n",
    "    \n",
    "                               1.Create_pin\n",
    "                               2.Deposit\n",
    "                               3.Withdraw\n",
    "                               4.check_pin\n",
    "                               5.show_balance\n",
    "                               6.save_history\n",
    "                               7.show_history\n",
    "    \n",
    "                                \"\"\"))\n",
    "            if option == 1:\n",
    "                self. Create_pin()\n",
    "            elif option == 2:\n",
    "                self.Deposit()\n",
    "            elif option == 3:\n",
    "                self.withdraw()\n",
    "            elif option == 4:\n",
    "                self.check_pin\n",
    "            elif option == 5:\n",
    "                self.show_balance()\n",
    "            elif option == 6:\n",
    "                self.save_history()\n",
    "            elif option == 7:\n",
    "                self.show_history()\n",
    "            else:\n",
    "                print(\"Thankuh visit again !!\")\n",
    "                break\n",
    "    def Create_pin (self):\n",
    "        pin = int(input(\"Enter the pin : \"))\n",
    "        re_pin = int(input(\"Enter the re-pin : \"))\n",
    "        if pin == re_pin:\n",
    "            self.pin = pin\n",
    "            print(\"Your pin created successfully\")\n",
    "        else:\n",
    "            print(\"Incorrect Pin\")\n",
    "            print(\"Try again !!\")\n",
    "    def Deposit(self):\n",
    "        if self.check_pin():\n",
    "            amount = int(input(\"Enter the deposit amount:\"))\n",
    "            if amount<=0 :\n",
    "                print(\"Enter valid amount\")\n",
    "            elif amount % 100 == 0:\n",
    "                self.balance += amount\n",
    "                print(f\"Amount deposited {self.balance}/- successfully\")\n",
    "                print(f\"Current Amount Rs.{self.balance}/-\")\n",
    "                self.history.append(f\"Credit amount Rs.{amount}/-\")\n",
    "            else:\n",
    "                print(\"Enter the valid amount\")\n",
    "    def withdraw(self):\n",
    "        if self.check_pin():\n",
    "            amount = int(input(\"enter the withdraw amount : \"))\n",
    "            if amount>=self.balance:\n",
    "                print(\"Insufficient balance\")\n",
    "            elif amount%100 == 0:\n",
    "                self.balance-=amount\n",
    "                print(f\"Current balance : Rs.{self.balance}/-\")\n",
    "                self.history.append(f\"Debit amount Rs.{amount}/-\")\n",
    "            else:\n",
    "                print(\"enter the valid amount\")\n",
    "\n",
    "    def check_pin(self):\n",
    "        trials = 0\n",
    "        while True:\n",
    "            trials+=1\n",
    "            check = int(input(\"Enter your pin: \"))\n",
    "            if check == self.pin:\n",
    "                return True\n",
    "            elif trials == 3:\n",
    "                print(\"Your card is blocked!\")\n",
    "                break\n",
    "            else:\n",
    "                print(\"You've entered an incorrect pin!\")\n",
    "                print(f\"You have {3-trials} tries left!\") \n",
    "                \n",
    "    def show_balance(self):\n",
    "        if self.check_pin():\n",
    "            print(f\"Current balance : {self.balance}\")\n",
    "            \n",
    "    def save_history(self):\n",
    "        if self.check_pin():\n",
    "            file = open(f\"{self.name}.txt\",\"a\")\n",
    "            file.writelines(self.history)\n",
    "            file.close()\n",
    "            print(\"Your history store successfully\")\n",
    "            \n",
    "    def show_history(self):\n",
    "        if self.check_pin():\n",
    "            print(f\"Name:{self.name} Acc No. : {Atm.acc_no}\")\n",
    "            for i in self.history:\n",
    "                print(i)\n",
    "                "
   ]
  },
  {
   "cell_type": "code",
   "execution_count": 31,
   "id": "0d4ab540-e5c9-4ceb-96e8-eab2e34eaa8a",
   "metadata": {},
   "outputs": [
    {
     "name": "stdin",
     "output_type": "stream",
     "text": [
      "Enter the pin :  1212\n",
      "Enter the re-pin :  1212\n"
     ]
    },
    {
     "name": "stdout",
     "output_type": "stream",
     "text": [
      "Your pin created successfully\n"
     ]
    },
    {
     "name": "stdin",
     "output_type": "stream",
     "text": [
      "enter the number:\n",
      "    \n",
      "                               1.Create_pin\n",
      "                               2.Deposit\n",
      "                               3.Withdraw\n",
      "                               4.check_pin\n",
      "                               5.show_balance\n",
      "                               6.save_history\n",
      "                               7.show_history\n",
      "    \n",
      "                                 3\n",
      "Enter your pin:  1212\n",
      "enter the withdraw amount :  00\n"
     ]
    },
    {
     "name": "stdout",
     "output_type": "stream",
     "text": [
      "Insufficient balance\n"
     ]
    },
    {
     "name": "stdin",
     "output_type": "stream",
     "text": [
      "enter the number:\n",
      "    \n",
      "                               1.Create_pin\n",
      "                               2.Deposit\n",
      "                               3.Withdraw\n",
      "                               4.check_pin\n",
      "                               5.show_balance\n",
      "                               6.save_history\n",
      "                               7.show_history\n",
      "    \n",
      "                                 2\n",
      "Enter your pin:  1212\n",
      "Enter the deposit amount: 12000\n"
     ]
    },
    {
     "name": "stdout",
     "output_type": "stream",
     "text": [
      "Amount deposited 12000/- successfully\n",
      "Current Amount Rs.12000/-\n"
     ]
    },
    {
     "name": "stdin",
     "output_type": "stream",
     "text": [
      "enter the number:\n",
      "    \n",
      "                               1.Create_pin\n",
      "                               2.Deposit\n",
      "                               3.Withdraw\n",
      "                               4.check_pin\n",
      "                               5.show_balance\n",
      "                               6.save_history\n",
      "                               7.show_history\n",
      "    \n",
      "                                 3\n",
      "Enter your pin:  1200\n"
     ]
    },
    {
     "name": "stdout",
     "output_type": "stream",
     "text": [
      "You've entered an incorrect pin!\n",
      "You have 2 tries left!\n"
     ]
    },
    {
     "name": "stdin",
     "output_type": "stream",
     "text": [
      "Enter your pin:  1212\n",
      "enter the withdraw amount :  1200\n"
     ]
    },
    {
     "name": "stdout",
     "output_type": "stream",
     "text": [
      "Current balance : Rs.10800/-\n"
     ]
    },
    {
     "name": "stdin",
     "output_type": "stream",
     "text": [
      "enter the number:\n",
      "    \n",
      "                               1.Create_pin\n",
      "                               2.Deposit\n",
      "                               3.Withdraw\n",
      "                               4.check_pin\n",
      "                               5.show_balance\n",
      "                               6.save_history\n",
      "                               7.show_history\n",
      "    \n",
      "                                 5\n",
      "Enter your pin:  1212\n"
     ]
    },
    {
     "name": "stdout",
     "output_type": "stream",
     "text": [
      "Current balance : 10800\n"
     ]
    },
    {
     "name": "stdin",
     "output_type": "stream",
     "text": [
      "enter the number:\n",
      "    \n",
      "                               1.Create_pin\n",
      "                               2.Deposit\n",
      "                               3.Withdraw\n",
      "                               4.check_pin\n",
      "                               5.show_balance\n",
      "                               6.save_history\n",
      "                               7.show_history\n",
      "    \n",
      "                                 6\n",
      "Enter your pin:  1212\n"
     ]
    },
    {
     "name": "stdout",
     "output_type": "stream",
     "text": [
      "Your history store successfully\n"
     ]
    },
    {
     "name": "stdin",
     "output_type": "stream",
     "text": [
      "enter the number:\n",
      "    \n",
      "                               1.Create_pin\n",
      "                               2.Deposit\n",
      "                               3.Withdraw\n",
      "                               4.check_pin\n",
      "                               5.show_balance\n",
      "                               6.save_history\n",
      "                               7.show_history\n",
      "    \n",
      "                                 7\n",
      "Enter your pin:  1212\n"
     ]
    },
    {
     "name": "stdout",
     "output_type": "stream",
     "text": [
      "Name:Nikita Acc No. : 1001\n",
      "Credit amount Rs.12000/-\n",
      "Debit amount Rs.1200/-\n"
     ]
    },
    {
     "name": "stdin",
     "output_type": "stream",
     "text": [
      "enter the number:\n",
      "    \n",
      "                               1.Create_pin\n",
      "                               2.Deposit\n",
      "                               3.Withdraw\n",
      "                               4.check_pin\n",
      "                               5.show_balance\n",
      "                               6.save_history\n",
      "                               7.show_history\n",
      "    \n",
      "                                 8\n"
     ]
    },
    {
     "name": "stdout",
     "output_type": "stream",
     "text": [
      "Thankuh visit again !!\n"
     ]
    }
   ],
   "source": [
    "a = Atm(\"Nikita\")"
   ]
  },
  {
   "cell_type": "code",
   "execution_count": 10,
   "id": "1872373e-98a1-4052-8447-dded91829f76",
   "metadata": {},
   "outputs": [
    {
     "name": "stdin",
     "output_type": "stream",
     "text": [
      "Enter your pin:  12300\n"
     ]
    },
    {
     "name": "stdout",
     "output_type": "stream",
     "text": [
      "You've entered an incorrect pin!\n",
      "You have 2 tries left!\n"
     ]
    },
    {
     "name": "stdin",
     "output_type": "stream",
     "text": [
      "Enter your pin:  1212\n",
      "Enter the deposit amount: 1200\n"
     ]
    },
    {
     "name": "stdout",
     "output_type": "stream",
     "text": [
      "Amount deposited 1200/- successfully\n",
      "Current Amount Rs.1200/-\n"
     ]
    }
   ],
   "source": [
    "a.Deposit()"
   ]
  },
  {
   "cell_type": "code",
   "execution_count": 11,
   "id": "fcf38abb-9c5b-4d56-b0ef-5ac189ae2e20",
   "metadata": {},
   "outputs": [
    {
     "name": "stdin",
     "output_type": "stream",
     "text": [
      "Enter your pin:  1212\n",
      "enter the withdraw amount :  100\n"
     ]
    },
    {
     "name": "stdout",
     "output_type": "stream",
     "text": [
      "Current balance : Rs.1100/-\n"
     ]
    }
   ],
   "source": [
    "a.withdraw()"
   ]
  },
  {
   "cell_type": "code",
   "execution_count": 12,
   "id": "27c1b99f-ef89-46e5-bb24-22a15d233d44",
   "metadata": {},
   "outputs": [
    {
     "name": "stdin",
     "output_type": "stream",
     "text": [
      "Enter your pin:  1212\n"
     ]
    },
    {
     "name": "stdout",
     "output_type": "stream",
     "text": [
      "Current balance : 1100\n"
     ]
    }
   ],
   "source": [
    "a.show_balance()"
   ]
  },
  {
   "cell_type": "code",
   "execution_count": 13,
   "id": "3be4fdff-2dcd-4afe-9296-571123f84802",
   "metadata": {},
   "outputs": [
    {
     "name": "stdin",
     "output_type": "stream",
     "text": [
      "Enter your pin:  1212\n"
     ]
    },
    {
     "name": "stdout",
     "output_type": "stream",
     "text": [
      "Name:Niki Acc No. : 1001\n",
      "Credit amount Rs.1200/-\n",
      "Debit amount Rs.100/-\n"
     ]
    }
   ],
   "source": [
    "a.show_history()"
   ]
  },
  {
   "cell_type": "code",
   "execution_count": 14,
   "id": "4265dd70-0e17-4a6f-bf1e-732387fcc59b",
   "metadata": {},
   "outputs": [
    {
     "name": "stdin",
     "output_type": "stream",
     "text": [
      "Enter your pin:  1212\n"
     ]
    },
    {
     "name": "stdout",
     "output_type": "stream",
     "text": [
      "Your history store successfully\n"
     ]
    }
   ],
   "source": [
    "a.save_history()"
   ]
  },
  {
   "cell_type": "code",
   "execution_count": null,
   "id": "d95b620f-b932-4c5b-9c5a-65ffd9f98f24",
   "metadata": {},
   "outputs": [],
   "source": []
  }
 ],
 "metadata": {
  "kernelspec": {
   "display_name": "Python 3 (ipykernel)",
   "language": "python",
   "name": "python3"
  },
  "language_info": {
   "codemirror_mode": {
    "name": "ipython",
    "version": 3
   },
   "file_extension": ".py",
   "mimetype": "text/x-python",
   "name": "python",
   "nbconvert_exporter": "python",
   "pygments_lexer": "ipython3",
   "version": "3.13.0"
  }
 },
 "nbformat": 4,
 "nbformat_minor": 5
}
